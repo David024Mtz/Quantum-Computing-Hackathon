import matplotlib.pyplot as plt
import numpy as np
import networkx as nx

from qiskit_aer import Aer
from qiskit.tools.visualization import plot_histogram
from qiskit.circuit.library import TwoLocal
from qiskit_optimization.applications import Maxcut, Tsp
from qiskit.algorithms.minimum_eigensolvers import SamplingVQE, NumPyMinimumEigensolver
from qiskit.algorithms.optimizers import SPSA
from qiskit.utils import algorithm_globals
from qiskit.primitives import Sampler
from qiskit_optimization.algorithms import MinimumEigenOptimizer

from qiskit_ibm_runtime import QiskitRuntimeService
service = QiskitRuntimeService(channel="ibm_quantum")



# Gráfica de cinco nodos donde el primer nodo representa el punto de partida del camión y los cuatro restanates representan un punto de entrega
# Nos basamos en Monterrrey con los siguientes puntos de entrega: 0: Tecnológico de Monterrey, 1: Fashion Drive, 2: Esfera City Monterrey
# 3: Parque Fundidora, 4: Universidad de Monterrrey

n = 5 
G = nx.Graph()
G.add_nodes_from(np.arange(0, n, 1))


elist = [(0, 1, 7.8), (0, 2, 11), (0, 3, 6.1), (0, 4, 16), (1, 2, 14), (1, 3, 9.4), (1, 4, 12), (2, 3, 16), (2, 4, 25), (3, 4, 16)] 
# Las distancias están escaladas en kilómetros, se utilizó la distancia vectorizada que ofrece Google Maps


G.add_weighted_edges_from(elist)

colors = ["pink" for node in G.nodes()]
pos = nx.spring_layout(G)


def draw_graph(G, colors, pos):
    default_axes = plt.axes(frameon=True)
    nx.draw_networkx(G, node_color=colors, node_size=600, alpha=0.8, ax=default_axes, pos=pos)
    edge_labels = nx.get_edge_attributes(G, "weight")
    nx.draw_networkx_edge_labels(G, pos=pos, edge_labels=edge_labels)

# Se muestra la gráfica con los nodos mencionados anteriormente y la interconexión de distancia entre cada una con respecto del nodo i
draw_graph(G, colors, pos)



# Realizamos la matriz de distancia donde cada término i es un nodo y j la distancia que le separa con respecto de los cuatro nodos restantes
w = np.zeros([n, n])
for i in range(n):
    for j in range(n):
        temp = G.get_edge_data(i, j, default=0)
        if temp != 0:
            w[i, j] = temp["weight"]
print(w)



# Tsp es una clase que toma como parámetro una matriz de distancias entre los nodos que en nuestro caso, equivalen a puntos de entrega
# Tomamos G porque el código madre funciona reconociendo los nodos y sus respectivas distancias pero podemos utilizar la matriz w formada
# en el anterior chunk y la función objetivo a minimizar será la misma

A = Tsp(G)
# A = Tsp(w) '''Por si se quiere probar lo mencionado con anterioridad''' 
qp = A.to_quadratic_program()
print(qp.prettyprint())



from qiskit_optimization.converters import QuadraticProgramToQubo

qp2qubo = QuadraticProgramToQubo()
qubo = qp2qubo.convert(qp)
qubitOp, offset = qubo.to_ising()
print("Offset:", offset)
#print("Ising Hamiltonian:")
#print(str(qubitOp))



exact = MinimumEigenOptimizer(NumPyMinimumEigensolver())

result = exact.solve(qubo)
print(result.prettyprint())



ee = NumPyMinimumEigensolver()
result = ee.compute_minimum_eigenvalue(qubitOp)
print("energy:", result.eigenvalue.real)
print("tsp objective:", result.eigenvalue.real + offset)
x = A.sample_most_likely(result.eigenstate)
print("feasible:", qubo.is_feasible(x))
z = A.interpret(x)
print("solution:", z)
print("solution objective:", A.tsp_value(z, w))
